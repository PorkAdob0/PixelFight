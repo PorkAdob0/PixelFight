{
 "cells": [
  {
   "cell_type": "code",
   "execution_count": 37,
   "metadata": {},
   "outputs": [
    {
     "name": "stdout",
     "output_type": "stream",
     "text": [
      "1\n"
     ]
    }
   ],
   "source": [
    "class Overload:\n",
    "    def __init__(self, num1):\n",
    "        self.num1 = num1 \n",
    "\n",
    "    def __mod__(self, other):\n",
    "        return self.num1 % other.num1\n",
    "    \n",
    "obj1 = Overload(15)\n",
    "obj2 = Overload(2)\n",
    "obj3 = obj1 % obj2 \n",
    "print(obj3)\n"
   ]
  },
  {
   "cell_type": "code",
   "execution_count": 41,
   "metadata": {},
   "outputs": [
    {
     "name": "stdout",
     "output_type": "stream",
     "text": [
      "10\n"
     ]
    }
   ],
   "source": [
    "class Overload:\n",
    "    def __init__(self, num1):\n",
    "        self.num1 = num1\n",
    "\n",
    "    def __mul__(self, num2):\n",
    "        return self.num1 * num2.num1\n",
    "    \n",
    "obj1 = Overload(5)\n",
    "obj2 = Overload(2)\n",
    "obj3 = obj1 * obj2\n",
    "\n",
    "print(obj3)"
   ]
  },
  {
   "cell_type": "code",
   "execution_count": 62,
   "metadata": {},
   "outputs": [
    {
     "name": "stdout",
     "output_type": "stream",
     "text": [
      "False\n",
      "True\n",
      "True\n"
     ]
    }
   ],
   "source": [
    "class Overload:\n",
    "    def __init__(self, num1):\n",
    "        self.num1 = num1\n",
    "\n",
    "    def __eq__(self, num2):\n",
    "        return self.num1 == num2.num1\n",
    "\n",
    "    def __ne__(self, num2):\n",
    "        return self.num1 != num2.num1\n",
    "\n",
    "\n",
    "obj1 = Overload(1)\n",
    "obj2 = Overload(2)\n",
    "obj3 = Overload(1)\n",
    "\n",
    "print(obj1 != obj3) \n",
    "print(obj1 != obj2)\n",
    "print(obj1 == obj3)"
   ]
  },
  {
   "cell_type": "code",
   "execution_count": 83,
   "metadata": {},
   "outputs": [
    {
     "name": "stdout",
     "output_type": "stream",
     "text": [
      "7\n"
     ]
    }
   ],
   "source": [
    "class Overload:\n",
    "    def __init__(self, num1):\n",
    "        self.num1 = num1\n",
    "    \n",
    "    def __sub__(self, num2):\n",
    "        self.num1 -= num2.num1\n",
    "        return self\n",
    "    \n",
    "\n",
    "obj1 = Overload(10)\n",
    "obj2 = Overload(3)\n",
    "obj3 = obj1 - obj2\n",
    "\n",
    "print(obj3.num1)"
   ]
  }
 ],
 "metadata": {
  "kernelspec": {
   "display_name": "Python 3",
   "language": "python",
   "name": "python3"
  },
  "language_info": {
   "codemirror_mode": {
    "name": "ipython",
    "version": 3
   },
   "file_extension": ".py",
   "mimetype": "text/x-python",
   "name": "python",
   "nbconvert_exporter": "python",
   "pygments_lexer": "ipython3",
   "version": "3.12.0"
  }
 },
 "nbformat": 4,
 "nbformat_minor": 2
}
